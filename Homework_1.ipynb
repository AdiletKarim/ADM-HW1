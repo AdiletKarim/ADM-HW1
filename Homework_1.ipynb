{
 "cells": [
  {
   "cell_type": "markdown",
   "id": "efb4e3d6",
   "metadata": {},
   "source": [
    "# ADM Homework 1"
   ]
  },
  {
   "cell_type": "markdown",
   "id": "e0df3f31",
   "metadata": {},
   "source": [
    "# Problem1"
   ]
  },
  {
   "cell_type": "markdown",
   "id": "79784bf6",
   "metadata": {},
   "source": [
    "## Introduction"
   ]
  },
  {
   "cell_type": "markdown",
   "id": "c6ff713f",
   "metadata": {},
   "source": [
    "### Say \"Hello, World!\" With Python"
   ]
  },
  {
   "cell_type": "code",
   "execution_count": 1,
   "id": "0871e767",
   "metadata": {
    "scrolled": true
   },
   "outputs": [
    {
     "name": "stdout",
     "output_type": "stream",
     "text": [
      "Hello, World!\n"
     ]
    }
   ],
   "source": [
    "print(\"Hello, World!\")"
   ]
  },
  {
   "cell_type": "markdown",
   "id": "b326c027",
   "metadata": {},
   "source": [
    "### Arithmetic Operators"
   ]
  },
  {
   "cell_type": "code",
   "execution_count": 3,
   "id": "5a130d17",
   "metadata": {},
   "outputs": [
    {
     "name": "stdout",
     "output_type": "stream",
     "text": [
      "3\n",
      "2\n",
      "5\n",
      "1\n",
      "6\n"
     ]
    }
   ],
   "source": [
    "a = int(input())\n",
    "b = int(input())\n",
    "print(a+b)\n",
    "print(a-b)\n",
    "print(a*b)"
   ]
  },
  {
   "cell_type": "markdown",
   "id": "ade23acc",
   "metadata": {},
   "source": [
    "### Python: Division"
   ]
  },
  {
   "cell_type": "code",
   "execution_count": 4,
   "id": "9160b0fe",
   "metadata": {},
   "outputs": [
    {
     "name": "stdout",
     "output_type": "stream",
     "text": [
      "4\n",
      "3\n",
      "1\n",
      "1.3333333333333333\n"
     ]
    }
   ],
   "source": [
    "a = int(input())\n",
    "b = int(input())\n",
    "print(a//b)\n",
    "print(a/b)"
   ]
  },
  {
   "cell_type": "markdown",
   "id": "47cf0021",
   "metadata": {},
   "source": [
    "### Loops"
   ]
  },
  {
   "cell_type": "code",
   "execution_count": 5,
   "id": "4488573c",
   "metadata": {},
   "outputs": [
    {
     "name": "stdout",
     "output_type": "stream",
     "text": [
      "5\n",
      "0\n",
      "1\n",
      "4\n",
      "9\n",
      "16\n"
     ]
    }
   ],
   "source": [
    "n = int(input())\n",
    "for i in range(n):\n",
    "    print(i*i)"
   ]
  },
  {
   "cell_type": "markdown",
   "id": "16a0cddf",
   "metadata": {},
   "source": [
    "### Write a function"
   ]
  },
  {
   "cell_type": "code",
   "execution_count": 6,
   "id": "0f8b63ef",
   "metadata": {},
   "outputs": [
    {
     "name": "stdout",
     "output_type": "stream",
     "text": [
      "1990\n",
      "False\n"
     ]
    }
   ],
   "source": [
    "def is_leap(year):\n",
    "    leap = False\n",
    "    # Write your logic here\n",
    "    if(year%400==0 or (year%100!=0 and year%4==0)):\n",
    "        leap = True\n",
    "    return leap\n",
    "\n",
    "year = int(input())\n",
    "print(is_leap(year))"
   ]
  },
  {
   "cell_type": "markdown",
   "id": "b13cc9f5",
   "metadata": {},
   "source": [
    "### Print Function"
   ]
  },
  {
   "cell_type": "code",
   "execution_count": 8,
   "id": "764b9d2c",
   "metadata": {},
   "outputs": [
    {
     "name": "stdout",
     "output_type": "stream",
     "text": [
      "3\n",
      "123.0\n"
     ]
    }
   ],
   "source": [
    "from __future__ import print_function\n",
    "if __name__ == '__main__':\n",
    "    n = int(input())\n",
    "    if(n<10):\n",
    "        t=10**(n-1)\n",
    "        s=0\n",
    "        for i in range(1,n+1):\n",
    "            s=s+i*t\n",
    "            t=t/10\n",
    "        print(s)\n",
    "    else:\n",
    "        for i in range(1,n+1):\n",
    "            print(i,end='')"
   ]
  },
  {
   "cell_type": "markdown",
   "id": "cf62354e",
   "metadata": {},
   "source": [
    "### Python If-Else"
   ]
  },
  {
   "cell_type": "code",
   "execution_count": 13,
   "id": "4093a316",
   "metadata": {
    "scrolled": false
   },
   "outputs": [
    {
     "name": "stdout",
     "output_type": "stream",
     "text": [
      "3\n",
      "Weird\n"
     ]
    }
   ],
   "source": [
    "#!/bin/python\n",
    "import math\n",
    "import os\n",
    "import random\n",
    "import re\n",
    "import sys\n",
    "\n",
    "if __name__ == '__main__':\n",
    "    n = int(input().strip())\n",
    "if(n%2!=0):\n",
    "    print(\"Weird\")\n",
    "elif(n%2==0 and n>=2 and n<=5):\n",
    "    print(\"Not Weird\")\n",
    "elif(n%2==0 and n>=6 and n<=20):\n",
    "    print(\"Weird\")\n",
    "else:\n",
    "    print(\"Not Weird\")\n"
   ]
  },
  {
   "cell_type": "markdown",
   "id": "8ef1e2ce",
   "metadata": {},
   "source": [
    "## Basic Datatypes"
   ]
  },
  {
   "cell_type": "markdown",
   "id": "e4ad066f",
   "metadata": {},
   "source": [
    "### Find the Runner-Up Score!"
   ]
  },
  {
   "cell_type": "code",
   "execution_count": 28,
   "id": "b960d51a",
   "metadata": {
    "scrolled": true
   },
   "outputs": [
    {
     "name": "stdout",
     "output_type": "stream",
     "text": [
      "5\n",
      "2 3 6 6 5\n",
      "5\n"
     ]
    }
   ],
   "source": [
    "if __name__ == '__main__':\n",
    "    n = int(input())\n",
    "    arr = list(map(int,input().split()))\n",
    "    max1=-101\n",
    "    for i in range(n):\n",
    "        if(max1<arr[i]):\n",
    "            max1=arr[i]\n",
    "    max2=-101        \n",
    "    for i in range(n):\n",
    "        if(arr[i]== max1):\n",
    "            arr[i]=-200\n",
    "    for i in range(n):\n",
    "        if(max2<arr[i]):\n",
    "            max2=arr[i]\n",
    "    print(max2)"
   ]
  },
  {
   "cell_type": "markdown",
   "id": "f8cd6832",
   "metadata": {},
   "source": [
    "### List Comprehensions"
   ]
  },
  {
   "cell_type": "code",
   "execution_count": 30,
   "id": "757aea1d",
   "metadata": {},
   "outputs": [
    {
     "name": "stdout",
     "output_type": "stream",
     "text": [
      "1\n",
      "1\n",
      "1\n",
      "2\n",
      "[[0, 0, 0], [0, 0, 1], [0, 1, 0], [1, 0, 0], [1, 1, 1]]\n"
     ]
    }
   ],
   "source": [
    "if __name__ == '__main__':\n",
    "    x = int(input())\n",
    "    y = int(input())\n",
    "    z = int(input())\n",
    "    n = int(input())\n",
    "    l=[]\n",
    "    l=[[i,j,k] for i in range(x+1) for j in range(y+1) for k in range(z+1) if(i+j+k)!=n]\n",
    "    print(l)\n"
   ]
  },
  {
   "cell_type": "markdown",
   "id": "3da4761c",
   "metadata": {},
   "source": [
    "### Nested Lists"
   ]
  },
  {
   "cell_type": "code",
   "execution_count": 31,
   "id": "68b4c423",
   "metadata": {},
   "outputs": [
    {
     "name": "stdout",
     "output_type": "stream",
     "text": [
      "4\n",
      "Prashant\n",
      "32\n",
      "Pallavi\n",
      "36\n",
      "Dheeraj\n",
      "39\n",
      "Shivam\n",
      "40\n",
      "Pallavi\n"
     ]
    }
   ],
   "source": [
    "if __name__ == '__main__':\n",
    "    l=[]\n",
    "    for _ in range(int(input())):\n",
    "        name = input()\n",
    "        score = float(input())\n",
    "        l.append([name,score])\n",
    "    m = sorted(set([i[1] for i in l]))[1]\n",
    "    print(\"\\n\".join(sorted([i[0] for i in l if i[1] == m])))"
   ]
  },
  {
   "cell_type": "markdown",
   "id": "aedc57da",
   "metadata": {},
   "source": [
    "### Finding the percentage"
   ]
  },
  {
   "cell_type": "code",
   "execution_count": 34,
   "id": "d67951a2",
   "metadata": {
    "scrolled": true
   },
   "outputs": [
    {
     "name": "stdout",
     "output_type": "stream",
     "text": [
      "3\n",
      "Krishna 67 68 69\n",
      "Arjun 70 98 63\n",
      "Malika 52 56 60\n",
      "Malika\n",
      "56.00\n"
     ]
    }
   ],
   "source": [
    "if __name__ == '__main__':\n",
    "    n = int(input())\n",
    "    student_marks = {}\n",
    "    for _ in range(n):\n",
    "        line = input().split()\n",
    "        name, scores = line[0], line[1:]\n",
    "        scores = list(map(float, scores))\n",
    "        student_marks[name] = scores\n",
    "    query_name = input()\n",
    "    s = sum(student_marks[query_name])/len(student_marks[query_name])\n",
    "    format_s = \"{:.2f}\".format(s)\n",
    "    print(format_s)\n",
    "    student_marks[query_name]=sum(scores)"
   ]
  },
  {
   "cell_type": "markdown",
   "id": "94d9d69b",
   "metadata": {},
   "source": [
    "### List"
   ]
  },
  {
   "cell_type": "code",
   "execution_count": 35,
   "id": "dac41c16",
   "metadata": {},
   "outputs": [
    {
     "name": "stdout",
     "output_type": "stream",
     "text": [
      "12\n",
      "insert 0 5\n",
      "insert 1 10 \n",
      "insert 0 6 \n",
      "print\n",
      "remove 6 \n",
      "append 9 \n",
      "append 1 \n",
      "sort \n",
      "print \n",
      "pop 9\n",
      "reverse \n",
      "print\n",
      "[6, 5, 10]\n",
      "[1, 5, 9, 10]\n",
      "[9, 5, 1]\n"
     ]
    }
   ],
   "source": [
    "def insert(ind, val):\n",
    "    l.insert(ind, val)  \n",
    "def append(val):\n",
    "    l.append(val)\n",
    "def pop():\n",
    "    l.pop() \n",
    "def remove(val):\n",
    "    l.remove(val)\n",
    "def sort():\n",
    "    l.sort()\n",
    "def reverse():\n",
    "    l.reverse()\n",
    "    \n",
    "n = int(input())\n",
    "l = []\n",
    "arr = [input() for i in range(n)]\n",
    "\n",
    "for i in arr:\n",
    "    s = i.split()\n",
    "    if s[0] == 'insert':\n",
    "        insert(ind=int(s[1]), val=int(s[2]))\n",
    "    elif s[0] == 'append':\n",
    "        append(val=int(s[1]))\n",
    "    elif s[0] == 'pop':\n",
    "        pop()\n",
    "    elif s[0] == 'print':\n",
    "        print(l)\n",
    "    elif s[0] == 'remove':\n",
    "        remove(val=int(s[1]))\n",
    "    elif s[0] == 'sort':\n",
    "        sort()\n",
    "    elif s[0] == 'reverse':\n",
    "        reverse()\n",
    "    \n"
   ]
  },
  {
   "cell_type": "markdown",
   "id": "7552a796",
   "metadata": {},
   "source": [
    "### Tuples"
   ]
  },
  {
   "cell_type": "code",
   "execution_count": 36,
   "id": "69bd568b",
   "metadata": {},
   "outputs": [
    {
     "name": "stdout",
     "output_type": "stream",
     "text": [
      "2\n",
      "1 2\n",
      "-3550055125485641917\n"
     ]
    }
   ],
   "source": [
    "if __name__ == '__main__':\n",
    "    n = int(input())\n",
    "    integer_list = list(map(int,input().split()))\n",
    "    print(hash(tuple(integer_list)))\n"
   ]
  },
  {
   "cell_type": "markdown",
   "id": "f717708c",
   "metadata": {},
   "source": [
    "## Strings"
   ]
  },
  {
   "cell_type": "markdown",
   "id": "114f5d5c",
   "metadata": {},
   "source": [
    "### sWAP cASE"
   ]
  },
  {
   "cell_type": "code",
   "execution_count": 14,
   "id": "027ee4f4",
   "metadata": {},
   "outputs": [
    {
     "name": "stdout",
     "output_type": "stream",
     "text": [
      "HackerRank.com presents \"Pythonist 2\".\n",
      "hACKERrANK.COM PRESENTS \"pYTHONIST 2\".\n"
     ]
    }
   ],
   "source": [
    "def swap_case(s):\n",
    "    l=[]\n",
    "    sn=''\n",
    "    for i in range(len(s)):\n",
    "        if(s[i].isupper()):\n",
    "            l.append(s[i].lower())\n",
    "        else:\n",
    "            l.append(s[i].upper())\n",
    "    for i in range(len(l)):\n",
    "        sn=sn+l[i]\n",
    "    return sn\n",
    "if __name__ == '__main__':\n",
    "    s = input()\n",
    "    result = swap_case(s)\n",
    "    print(result)"
   ]
  },
  {
   "cell_type": "markdown",
   "id": "a837e0a5",
   "metadata": {},
   "source": [
    "### String Split and Join"
   ]
  },
  {
   "cell_type": "code",
   "execution_count": 15,
   "id": "a9fe4949",
   "metadata": {},
   "outputs": [
    {
     "name": "stdout",
     "output_type": "stream",
     "text": [
      "this is a string\n",
      "this-is-a-string\n"
     ]
    }
   ],
   "source": [
    "def split_and_join(line):\n",
    "    l=line.split()\n",
    "    l=\"-\".join(l)\n",
    "    return l\n",
    "if __name__ == '__main__':\n",
    "    line = input()\n",
    "    result = split_and_join(line)\n",
    "    print(result)"
   ]
  },
  {
   "cell_type": "markdown",
   "id": "9ed4c5b6",
   "metadata": {},
   "source": [
    "### What's Your Name?"
   ]
  },
  {
   "cell_type": "code",
   "execution_count": 16,
   "id": "7391303a",
   "metadata": {},
   "outputs": [
    {
     "name": "stdout",
     "output_type": "stream",
     "text": [
      "Ross\n",
      "Taylor\n",
      "Hello Ross Taylor! You just delved into python.\n"
     ]
    }
   ],
   "source": [
    "def print_full_name(first, last):\n",
    "    print('Hello '+ first + ' ' + last + '! You just delved into python.')\n",
    "if __name__ == '__main__':\n",
    "    first_name = input()\n",
    "    last_name = input()\n",
    "    print_full_name(first_name, last_name)"
   ]
  },
  {
   "cell_type": "markdown",
   "id": "f365a1af",
   "metadata": {},
   "source": [
    "### Mutations"
   ]
  },
  {
   "cell_type": "code",
   "execution_count": 17,
   "id": "2d866370",
   "metadata": {},
   "outputs": [
    {
     "name": "stdout",
     "output_type": "stream",
     "text": [
      "abracadabra\n",
      "5 k\n",
      "abrackdabra\n"
     ]
    }
   ],
   "source": [
    "def mutate_string(string, position, character):\n",
    "    l=[]\n",
    "    s_new=\"\"\n",
    "    for i in range(len(string)):\n",
    "        if(i == position):\n",
    "            l.append(character)\n",
    "        else:\n",
    "            l.append(string[i])\n",
    "    for i in range(len(l)):\n",
    "        s_new=s_new+l[i]\n",
    "    string = s_new\n",
    "    return string\n",
    "if __name__ == '__main__':\n",
    "    s = input()\n",
    "    i, c = input().split()\n",
    "    s_new = mutate_string(s, int(i), c)\n",
    "    print(s_new)"
   ]
  },
  {
   "cell_type": "markdown",
   "id": "55a37b3d",
   "metadata": {},
   "source": [
    "### Find a string"
   ]
  },
  {
   "cell_type": "code",
   "execution_count": 18,
   "id": "5d1889b9",
   "metadata": {},
   "outputs": [
    {
     "name": "stdout",
     "output_type": "stream",
     "text": [
      "ABCDCDC\n",
      "CDC\n",
      "2\n"
     ]
    }
   ],
   "source": [
    "def count_substring(string, sub_string):\n",
    "    l=[]\n",
    "    for i in range(len(string)-len(sub_string)+1):\n",
    "        s=string[i:i+len(sub_string)]\n",
    "        l.append(s)\n",
    "        s=\"\"\n",
    "    count=0\n",
    "    for i in range(len(l)):\n",
    "        if(l[i]==sub_string):\n",
    "            count=count+1;\n",
    "    return count\n",
    "if __name__ == '__main__':\n",
    "    string = input().strip()\n",
    "    sub_string = input().strip()\n",
    "    \n",
    "    count = count_substring(string, sub_string)\n",
    "    print(count)"
   ]
  },
  {
   "cell_type": "markdown",
   "id": "ccb26f05",
   "metadata": {},
   "source": [
    "### String Validators"
   ]
  },
  {
   "cell_type": "code",
   "execution_count": 20,
   "id": "1942a188",
   "metadata": {},
   "outputs": [
    {
     "name": "stdout",
     "output_type": "stream",
     "text": [
      "qA2\n",
      "True\n",
      "True\n",
      "True\n",
      "True\n",
      "True\n"
     ]
    }
   ],
   "source": [
    "if __name__ == '__main__':\n",
    "    s = input()\n",
    "    t1=t2=t3=t4=t5=False\n",
    "    for i in range(len(s)):\n",
    "        if(s[i].isalnum()):\n",
    "            t1=True\n",
    "        if(s[i].isalpha()):\n",
    "            t2=True\n",
    "        if(s[i].isdigit()):\n",
    "            t3=True\n",
    "        if(s[i].islower()):\n",
    "            t4=True\n",
    "        if(s[i].isupper()):\n",
    "            t5=True\n",
    "    print(t1)\n",
    "    print(t2)\n",
    "    print(t3)\n",
    "    print(t4)\n",
    "    print(t5)"
   ]
  },
  {
   "cell_type": "markdown",
   "id": "1c3c5d1c",
   "metadata": {},
   "source": [
    "### Capitalize!"
   ]
  },
  {
   "cell_type": "code",
   "execution_count": 23,
   "id": "17673e3d",
   "metadata": {},
   "outputs": [
    {
     "name": "stdout",
     "output_type": "stream",
     "text": [
      "hello world\n",
      "Hello World\n"
     ]
    }
   ],
   "source": [
    "def solve(s):\n",
    "    sn=\"\"\n",
    "    sn=s[0].upper()\n",
    "    for i in range(len(s)-1): \n",
    "        if(s[i]==\" \"):\n",
    "            sn=sn + s[i+1].upper()\n",
    "        else:\n",
    "            sn=sn+s[i+1]\n",
    "    print(sn)\n",
    "\n",
    "s = input()\n",
    "result = solve(s)\n",
    "\n"
   ]
  },
  {
   "cell_type": "markdown",
   "id": "45635e03",
   "metadata": {},
   "source": [
    "### TextWrap"
   ]
  },
  {
   "cell_type": "code",
   "execution_count": 37,
   "id": "da4631b0",
   "metadata": {
    "scrolled": true
   },
   "outputs": [
    {
     "name": "stdout",
     "output_type": "stream",
     "text": [
      "ABCDEFGHIJKLIMNOQRSTUVWXYZ\n",
      "4\n",
      "ABCD\n",
      "EFGH\n",
      "IJKL\n",
      "IMNO\n",
      "QRST\n",
      "UVWX\n",
      "YZ\n"
     ]
    }
   ],
   "source": [
    "import textwrap\n",
    "def wrap(string, max_width):\n",
    "    return '\\n'.join([(string[i:i+max_width]) for i in range(0,len(string),max_width)])\n",
    "#first I used list comprehension to be compress my loop and got list: ['ABCD', 'EFGH', 'IJKL', 'IMNO', 'QRST','UVWX', 'YZ']\n",
    "#after that I needed to change the list to string with ''.join function\n",
    "#modify '' like '\\n',cuz i need new line\n",
    "\n",
    "if __name__ == '__main__':\n",
    "    string, max_width = input(), int(input())\n",
    "    result = wrap(string, max_width)\n",
    "    print(result)"
   ]
  },
  {
   "cell_type": "markdown",
   "id": "fae1cf2c",
   "metadata": {},
   "source": [
    "### Text Alignment"
   ]
  },
  {
   "cell_type": "code",
   "execution_count": 38,
   "id": "73718822",
   "metadata": {},
   "outputs": [
    {
     "name": "stdout",
     "output_type": "stream",
     "text": [
      "    H\n",
      "   HHH\n",
      "  HHHHH\n",
      " HHHHHHH\n",
      "HHHHHHHHH\n",
      "  HHHHH               HHHHH\n",
      "  HHHHH               HHHHH\n",
      "  HHHHH               HHHHH\n",
      "  HHHHH               HHHHH\n",
      "  HHHHH               HHHHH\n",
      "  HHHHH               HHHHH\n",
      "  HHHHHHHHHHHHHHHHHHHHHHHHH\n",
      "  HHHHHHHHHHHHHHHHHHHHHHHHH\n",
      "  HHHHHHHHHHHHHHHHHHHHHHHHH\n",
      "  HHHHH               HHHHH\n",
      "  HHHHH               HHHHH\n",
      "  HHHHH               HHHHH\n",
      "  HHHHH               HHHHH\n",
      "  HHHHH               HHHHH\n",
      "  HHHHH               HHHHH\n",
      "                    HHHHHHHHH\n",
      "                     HHHHHHH\n",
      "                      HHHHH\n",
      "                       HHH\n",
      "                        H\n"
     ]
    }
   ],
   "source": [
    "l1 = 5\n",
    "s = 'H'\n",
    "for i in range(l1):\n",
    "    print((s*i+s).rjust(5,' ')+(s*i))\n",
    "l2 = 6\n",
    "for i in range(l2):\n",
    "    print((5*s).rjust(7,' ')+(5*s).rjust(20,' '))\n",
    "l3 = 3\n",
    "for i in range(l3):\n",
    "    print((25*s).rjust(27,' '))\n",
    "l4 = 6\n",
    "for i in range(l4):\n",
    "    print((5*s).rjust(7,' ')+(5*s).rjust(20,' '))\n",
    "l5 = 5\n",
    "for i in range(l5-1,0,-1):\n",
    "    print((s*i+s).rjust(25,' ')+(s*i))\n",
    "print(s.rjust(25,' '))\n"
   ]
  },
  {
   "cell_type": "markdown",
   "id": "b947a2d5",
   "metadata": {},
   "source": [
    "### String Formatting"
   ]
  },
  {
   "cell_type": "code",
   "execution_count": 39,
   "id": "8d111e88",
   "metadata": {},
   "outputs": [
    {
     "name": "stdout",
     "output_type": "stream",
     "text": [
      "17\n",
      "1 1 1 1\n",
      "2 2 2 10\n",
      "3 3 3 11\n",
      "4 4 4 100\n",
      "5 5 5 101\n",
      "6 6 6 110\n",
      "7 7 7 111\n",
      "8 10 8 1000\n",
      "9 11 9 1001\n",
      "10 12 A 1010\n",
      "11 13 B 1011\n",
      "12 14 C 1100\n",
      "13 15 D 1101\n",
      "14 16 E 1110\n",
      "15 17 F 1111\n",
      "16 20 10 10000\n",
      "17 21 11 10001\n"
     ]
    }
   ],
   "source": [
    "def print_formatted(x):\n",
    "    for i in range(1,x+1):\n",
    "        print(i,oct(i)[2:],hex(i)[2:].capitalize(),bin(i)[2:],sep = \" \")\n",
    "if __name__ == '__main__':\n",
    "    n = int(input())\n",
    "    print_formatted(n)"
   ]
  },
  {
   "cell_type": "markdown",
   "id": "672f6add",
   "metadata": {},
   "source": [
    "### Merge the Tools!"
   ]
  },
  {
   "cell_type": "code",
   "execution_count": 40,
   "id": "75a51a18",
   "metadata": {},
   "outputs": [
    {
     "name": "stdout",
     "output_type": "stream",
     "text": [
      "AABCAAADA\n",
      "3\n",
      "BA\n",
      "AC\n",
      "AD\n"
     ]
    }
   ],
   "source": [
    "def merge_the_tools(s,k):\n",
    "    sub=[(s[i:i+k]) for i in range(0,len(s),k)]\n",
    "    ss=[]\n",
    "    for i in range(len(sub)):\n",
    "        ss.append(\"\".join(set(sub[i])))\n",
    "    for i in range(len(sub)):\n",
    "        print(ss[i][::-1])\n",
    "        \n",
    "if __name__ == '__main__':\n",
    "    string, k = input(), int(input())\n",
    "    merge_the_tools(string, k)"
   ]
  },
  {
   "cell_type": "markdown",
   "id": "5037ff29",
   "metadata": {},
   "source": [
    "## Sets"
   ]
  },
  {
   "cell_type": "markdown",
   "id": "5cd1679f",
   "metadata": {},
   "source": [
    "### Introduction to Sets"
   ]
  },
  {
   "cell_type": "code",
   "execution_count": 41,
   "id": "15a32d5f",
   "metadata": {},
   "outputs": [
    {
     "name": "stdout",
     "output_type": "stream",
     "text": [
      "10\n",
      "161 182 161 154 176 170 167 171 170 174\n",
      "169.375\n"
     ]
    }
   ],
   "source": [
    "def average(array):\n",
    "    array=set(array)\n",
    "    return sum(array)/len(array)\n",
    "if __name__ == '__main__':\n",
    "    n = int(input())\n",
    "    arr = list(map(int, input().split()))\n",
    "    result = average(arr)\n",
    "    print(result)"
   ]
  },
  {
   "cell_type": "markdown",
   "id": "96916141",
   "metadata": {},
   "source": [
    "### No Idea!"
   ]
  },
  {
   "cell_type": "code",
   "execution_count": 42,
   "id": "c0ccce7b",
   "metadata": {},
   "outputs": [
    {
     "name": "stdout",
     "output_type": "stream",
     "text": [
      "3 2\n",
      "1 5 3\n",
      "3 1\n",
      "5 7\n",
      "1\n"
     ]
    }
   ],
   "source": [
    "N,M = list(map(int,input().split()))\n",
    "arr=map(int,input().split())\n",
    "a =  set(map(int,input().split()))\n",
    "b = set(map(int,input().split()))\n",
    "c=0\n",
    "for i in arr:\n",
    "    if(i in a):\n",
    "        c=c+1\n",
    "    elif(i in b):\n",
    "        c=c-1\n",
    "print(c)"
   ]
  },
  {
   "cell_type": "markdown",
   "id": "51b33827",
   "metadata": {},
   "source": [
    "### Symmetric Difference"
   ]
  },
  {
   "cell_type": "code",
   "execution_count": 43,
   "id": "bc3d8817",
   "metadata": {},
   "outputs": [
    {
     "name": "stdout",
     "output_type": "stream",
     "text": [
      "4\n",
      "2 4 5 9\n",
      "4\n",
      "2 4 11 12\n",
      "5\n",
      "9\n",
      "11\n",
      "12\n"
     ]
    }
   ],
   "source": [
    "M = int(input())\n",
    "a = set(map(int,input().split()))\n",
    "N = int(input())\n",
    "b = set(map(int,input().split()))\n",
    "s1=a.difference(b)\n",
    "s2=b.difference(a)\n",
    "s=sorted(s1.union(s2))\n",
    "for i in s:\n",
    "    print(i, end=\"\\n\")\n"
   ]
  },
  {
   "cell_type": "markdown",
   "id": "c8d797bf",
   "metadata": {},
   "source": [
    "### Set .add()"
   ]
  },
  {
   "cell_type": "code",
   "execution_count": 45,
   "id": "935dac92",
   "metadata": {},
   "outputs": [
    {
     "name": "stdout",
     "output_type": "stream",
     "text": [
      "7\n",
      "UK\n",
      "China\n",
      "USA\n",
      "France\n",
      "New Zealand\n",
      "UK\n",
      "France\n",
      "5\n"
     ]
    }
   ],
   "source": [
    "n = int(input())\n",
    "count = set()\n",
    "for i in range(n):\n",
    "    count.add(input())\n",
    "print(len(count))\n"
   ]
  },
  {
   "cell_type": "markdown",
   "id": "f2b74918",
   "metadata": {},
   "source": [
    "### Set .discard(), .remove() & .pop()"
   ]
  },
  {
   "cell_type": "code",
   "execution_count": 47,
   "id": "97a049d0",
   "metadata": {},
   "outputs": [
    {
     "name": "stdout",
     "output_type": "stream",
     "text": [
      "9\n",
      "1 2 3 4 5 6 7 8 9\n",
      "10\n",
      "pop\n",
      "remove 9\n",
      "discard 9\n",
      "discard 8\n",
      "remove 7\n",
      "pop\n",
      "discard 6\n",
      "remove 5\n",
      "pop\n",
      "discard 5\n",
      "4\n"
     ]
    }
   ],
   "source": [
    "n = int(input())\n",
    "s = set(map(int, input().split()))\n",
    "N = int(input())\n",
    "for i in range(N):\n",
    "    l = input().split()\n",
    "    if l[0]==\"remove\" :\n",
    "        s.remove(int(l[1]))\n",
    "    elif l[0]==\"discard\" :\n",
    "        s.discard(int(l[1]))\n",
    "    elif l[0]==\"pop\" :\n",
    "        s.pop()\n",
    "print(sum(s))\n"
   ]
  },
  {
   "cell_type": "markdown",
   "id": "ca0bd6c0",
   "metadata": {},
   "source": [
    "### Set .union() "
   ]
  },
  {
   "cell_type": "code",
   "execution_count": 48,
   "id": "fda162b2",
   "metadata": {},
   "outputs": [
    {
     "name": "stdout",
     "output_type": "stream",
     "text": [
      "9\n",
      "1 2 3 4 5 6 7 8 9\n",
      "9\n",
      "10 1 2 3 11 21 55 6 8\n",
      "13\n"
     ]
    }
   ],
   "source": [
    "M = int(input())\n",
    "a = set(map(int,input().split()))\n",
    "N = int(input())\n",
    "b = set(map(int,input().split()))\n",
    "print(len(a.union(b)))"
   ]
  },
  {
   "cell_type": "markdown",
   "id": "f4f22147",
   "metadata": {},
   "source": [
    "### Set .intersection()"
   ]
  },
  {
   "cell_type": "code",
   "execution_count": 49,
   "id": "a909a2a6",
   "metadata": {},
   "outputs": [
    {
     "name": "stdout",
     "output_type": "stream",
     "text": [
      "9\n",
      "1 2 3 4 5 6 7 8 9\n",
      "9\n",
      "10 1 2 3 11 21 55 6 8\n",
      "5\n"
     ]
    }
   ],
   "source": [
    "M = int(input())\n",
    "a = set(map(int,input().split()))\n",
    "N = int(input())\n",
    "b = set(map(int,input().split()))\n",
    "print(len(a.intersection(b)))"
   ]
  },
  {
   "cell_type": "markdown",
   "id": "122fc1bf",
   "metadata": {},
   "source": [
    "### Set .difference()"
   ]
  },
  {
   "cell_type": "code",
   "execution_count": 50,
   "id": "23ec5559",
   "metadata": {},
   "outputs": [
    {
     "name": "stdout",
     "output_type": "stream",
     "text": [
      "9\n",
      "1 2 3 4 5 6 7 8 9\n",
      "9\n",
      "10 1 2 3 11 21 55 6 8\n",
      "4\n"
     ]
    }
   ],
   "source": [
    "M = int(input())\n",
    "a = set(map(int,input().split()))\n",
    "N = int(input())\n",
    "b = set(map(int,input().split()))\n",
    "print(len(a.difference(b)))"
   ]
  },
  {
   "cell_type": "markdown",
   "id": "10a6119c",
   "metadata": {},
   "source": [
    "### Set .symmetric_difference() "
   ]
  },
  {
   "cell_type": "code",
   "execution_count": 51,
   "id": "0a2fea0f",
   "metadata": {},
   "outputs": [
    {
     "name": "stdout",
     "output_type": "stream",
     "text": [
      "9\n",
      "1 2 3 4 5 6 7 8 9\n",
      "9\n",
      "10 1 2 3 11 21 55 6 8\n",
      "8\n"
     ]
    }
   ],
   "source": [
    "M = int(input())\n",
    "a = set(map(int,input().split()))\n",
    "N = int(input())\n",
    "b = set(map(int,input().split()))\n",
    "print(len(a.symmetric_difference(b)))"
   ]
  },
  {
   "cell_type": "markdown",
   "id": "532c9e83",
   "metadata": {},
   "source": [
    "### Set Mutations"
   ]
  },
  {
   "cell_type": "code",
   "execution_count": 52,
   "id": "01e3166d",
   "metadata": {},
   "outputs": [
    {
     "name": "stdout",
     "output_type": "stream",
     "text": [
      "16\n",
      "1 2 3 4 5 6 7 8 9 10 11 12 13 14 24 52\n",
      "4\n",
      "intersection_update 10\n",
      "2 3 5 6 8 9 1 4 7 11\n",
      "update 2\n",
      "55 66\n",
      "symmetric_difference_update 5\n",
      "22 7 35 62 58\n",
      "difference_update 7\n",
      "11 22 35 55 58 62 66\n",
      "38\n"
     ]
    }
   ],
   "source": [
    "M = int(input())\n",
    "a = set(map(int,input().split()))\n",
    "N = int(input())\n",
    "for i in range(N):\n",
    "    l,i = input().split()\n",
    "    b = set(map(int, input().split()))\n",
    "    if(l == \"update\"):\n",
    "        a.update(b)\n",
    "    elif(l == \"intersection_update\"):\n",
    "        a.intersection_update(b)\n",
    "    elif(l == \"symmetric_difference_update\"):\n",
    "        a.symmetric_difference_update(b)\n",
    "    elif(l == \"difference_update\"):\n",
    "        a.difference_update(b)\n",
    "print(sum(a))"
   ]
  },
  {
   "cell_type": "markdown",
   "id": "1636cb45",
   "metadata": {},
   "source": [
    "### The Captain's Room"
   ]
  },
  {
   "cell_type": "code",
   "execution_count": 53,
   "id": "2914acbe",
   "metadata": {},
   "outputs": [
    {
     "name": "stdout",
     "output_type": "stream",
     "text": [
      "5\n",
      "1 2 3 6 5 4 4 2 5 3 6 1 6 5 3 2 4 1 2 5 1 4 3 6 8 4 3 1 5 6 2\n",
      "8\n"
     ]
    }
   ],
   "source": [
    "K = int(input())\n",
    "s = input().split()\n",
    "s.sort()\n",
    "p = (set(s[0::2]) ^ set(s[1::2]))\n",
    "capt=p.pop()\n",
    "print(capt)"
   ]
  },
  {
   "cell_type": "markdown",
   "id": "a1c464d0",
   "metadata": {},
   "source": [
    "### Check Subset"
   ]
  },
  {
   "cell_type": "code",
   "execution_count": 54,
   "id": "d9cbe27c",
   "metadata": {},
   "outputs": [
    {
     "name": "stdout",
     "output_type": "stream",
     "text": [
      "3\n",
      "5\n",
      "1 2 3 5 6\n",
      "9\n",
      "9 8 5 6 3 2 1 4 7\n",
      "True\n",
      "1\n",
      "2\n",
      "5\n",
      "3 6 5 4 1\n",
      "False\n",
      "7\n",
      "1 2 3 5 6 8 9\n",
      "3\n",
      "9 8 2\n",
      "False\n"
     ]
    }
   ],
   "source": [
    "T= int(input())\n",
    "for i in range(T):\n",
    "    n1 = int(input())\n",
    "    A=set(input().split())\n",
    "    n2 = int(input())\n",
    "    B=set(input().split())\n",
    "    print(A.intersection(B) == A)"
   ]
  },
  {
   "cell_type": "markdown",
   "id": "16d7b13a",
   "metadata": {},
   "source": [
    "### Check Strict Superset"
   ]
  },
  {
   "cell_type": "code",
   "execution_count": 55,
   "id": "e247d8f5",
   "metadata": {},
   "outputs": [
    {
     "name": "stdout",
     "output_type": "stream",
     "text": [
      "1 2 3 4 5 6 7 8 9 10 11 12 23 45 84 78\n",
      "2\n",
      "1 2 3 4 5\n",
      "False\n"
     ]
    }
   ],
   "source": [
    "A=set(input().split())\n",
    "N=int(input())\n",
    "for i in range(N):\n",
    "    s=set(map(int,(input().split())))\n",
    "    if A.issuperset(s):\n",
    "        print(True)\n",
    "    else:\n",
    "        print(False)\n",
    "        break\n"
   ]
  },
  {
   "cell_type": "markdown",
   "id": "176e8a66",
   "metadata": {},
   "source": [
    "## Collections"
   ]
  },
  {
   "cell_type": "markdown",
   "id": "ae4608d8",
   "metadata": {},
   "source": [
    "### collections.Counter()"
   ]
  },
  {
   "cell_type": "code",
   "execution_count": 56,
   "id": "285445e3",
   "metadata": {},
   "outputs": [
    {
     "name": "stdout",
     "output_type": "stream",
     "text": [
      "10\n",
      "2 3 4 5 6 8 7 6 5 18\n",
      "6\n",
      "6 55\n",
      "6 45\n",
      "6 55\n",
      "4 40\n",
      "18 60\n",
      "10 50\n",
      "200\n"
     ]
    }
   ],
   "source": [
    "from collections import Counter\n",
    "\n",
    "X = int(input())\n",
    "l= Counter(map(int,input().split()))\n",
    "N = int(input())\n",
    "s=0\n",
    "for i in range(N):\n",
    "    size,price = map(int, input().split())\n",
    "    if l[size]:\n",
    "        s=s+price\n",
    "        l[size]=l[size]-1\n",
    "print(s)\n"
   ]
  },
  {
   "cell_type": "markdown",
   "id": "0af8e661",
   "metadata": {},
   "source": [
    "### DefaultDict Tutorial"
   ]
  },
  {
   "cell_type": "code",
   "execution_count": 58,
   "id": "91ca42dd",
   "metadata": {},
   "outputs": [
    {
     "name": "stdout",
     "output_type": "stream",
     "text": [
      "5 2\n",
      "a\n",
      "a\n",
      "b\n",
      "a\n",
      "b\n",
      "a\n",
      "b\n",
      "1 2 4\n",
      "3 5\n"
     ]
    }
   ],
   "source": [
    "from collections import defaultdict\n",
    "d = defaultdict(list)\n",
    "n , m = map(int,input().split())\n",
    "a,b = [input() for i in range(n)],[input() for i in range(m)]\n",
    "for i in range(len(a)):\n",
    "    d[a[i]].append(str(i+1))\n",
    "for i in b:\n",
    "    if i in a:\n",
    "        print(' '.join(d[i]))\n",
    "    else:\n",
    "        print(-1)\n"
   ]
  },
  {
   "cell_type": "markdown",
   "id": "19ac884c",
   "metadata": {},
   "source": [
    "### Collections.namedtuple()"
   ]
  },
  {
   "cell_type": "code",
   "execution_count": 59,
   "id": "74e7a840",
   "metadata": {},
   "outputs": [
    {
     "name": "stdout",
     "output_type": "stream",
     "text": [
      "5\n",
      "ID         MARKS      NAME       CLASS \n",
      "1          97         Raymond    7 \n",
      "2          50         Steven     4     \n",
      "3          91         Adrian     9  \n",
      "4          72         Stewart    5  \n",
      "5          80         Peter      6 \n",
      "78.0\n"
     ]
    }
   ],
   "source": [
    "N = int(input())\n",
    "m = input().split().index(\"MARKS\")\n",
    "d = [input().split() for i in range(N)]\n",
    "print(sum(int(i[m]) for i in d)/N)\n"
   ]
  },
  {
   "cell_type": "markdown",
   "id": "5dac1b58",
   "metadata": {},
   "source": [
    "### Collections.deque()\n"
   ]
  },
  {
   "cell_type": "code",
   "execution_count": 60,
   "id": "3ddc25a4",
   "metadata": {},
   "outputs": [
    {
     "name": "stdout",
     "output_type": "stream",
     "text": [
      "6\n",
      "append 1\n",
      "append 2\n",
      "append 3\n",
      "appendleft 4\n",
      "pop\n",
      "popleft\n",
      "1 2\n"
     ]
    }
   ],
   "source": [
    "from collections import deque\n",
    "d = deque()\n",
    "N=int(input())\n",
    "for i in range(N):\n",
    "    a = input().split()\n",
    "    if a[0]==\"append\":\n",
    "        d.append(a[1])\n",
    "    elif a[0]==\"appendleft\":\n",
    "        d.appendleft(a[1])\n",
    "    elif a[0]==\"pop\":\n",
    "        d.pop()\n",
    "    elif a[0]==\"popleft\":\n",
    "        d.popleft()\n",
    "print(*d)\n"
   ]
  },
  {
   "cell_type": "markdown",
   "id": "60d48d76",
   "metadata": {},
   "source": [
    "### Company Logo"
   ]
  },
  {
   "cell_type": "code",
   "execution_count": 61,
   "id": "e70abd6b",
   "metadata": {},
   "outputs": [
    {
     "name": "stdout",
     "output_type": "stream",
     "text": [
      "aabbbccde\n",
      "b 3\n",
      "a 2\n",
      "c 2\n"
     ]
    }
   ],
   "source": [
    "#!/bin/python3\n",
    "\n",
    "import math\n",
    "import os\n",
    "import random\n",
    "import re\n",
    "import sys\n",
    "from collections import Counter\n",
    "\n",
    "\n",
    "\n",
    "if __name__ == '__main__':\n",
    "    s = input()\n",
    "    x=Counter(s)\n",
    "    for i in x.most_common(3):\n",
    "        print(*i) \n"
   ]
  },
  {
   "cell_type": "markdown",
   "id": "0b33da76",
   "metadata": {},
   "source": [
    "## Date and Time "
   ]
  },
  {
   "cell_type": "markdown",
   "id": "9c6b75b7",
   "metadata": {},
   "source": [
    "### Calendar Module "
   ]
  },
  {
   "cell_type": "code",
   "execution_count": 62,
   "id": "343638ce",
   "metadata": {},
   "outputs": [
    {
     "name": "stdout",
     "output_type": "stream",
     "text": [
      "08 05 2015\n",
      "WEDNESDAY\n"
     ]
    }
   ],
   "source": [
    "import calendar\n",
    "l=list(map(int,input().split()))\n",
    "month = l[0]\n",
    "day = l[1]\n",
    "year = l[2]\n",
    "d={0:'Monday' , 1:'Tuesday',  2:'Wednesday', 3:'Thursday', 4:'Friday', 5:'Saturday', 6:'Sunday'}\n",
    "print(d[calendar.weekday(year,month,day)].upper())\n"
   ]
  },
  {
   "cell_type": "markdown",
   "id": "a29ab24f",
   "metadata": {},
   "source": [
    "### Time Delta "
   ]
  },
  {
   "cell_type": "code",
   "execution_count": 67,
   "id": "9856b99d",
   "metadata": {},
   "outputs": [
    {
     "name": "stdout",
     "output_type": "stream",
     "text": [
      "2\n",
      "Sun 10 May 2015 13:54:36 -0700\n",
      "Sun 10 May 2015 13:54:36 -0000\n",
      "25200\n",
      "Sat 02 May 2015 19:54:36 +0530\n",
      "Fri 01 May 2015 13:54:36 -0000\n",
      "88200\n"
     ]
    }
   ],
   "source": [
    "#!/bin/python3\n",
    "\n",
    "import math\n",
    "import os\n",
    "import random\n",
    "import re\n",
    "import sys\n",
    "from datetime import datetime\n",
    "\n",
    "# Complete the time_delta function below.\n",
    "def time_delta(t1, t2):\n",
    "    dt1=datetime.strptime(t1,'%a %d %b %Y %H:%M:%S %z')\n",
    "    dt2=datetime.strptime(t2,'%a %d %b %Y %H:%M:%S %z')\n",
    "    print(str(int(abs(dt1-dt2).total_seconds())))\n",
    "\n",
    "t = int(input())\n",
    "for t_itr in range(t):\n",
    "    t1 = input()\n",
    "    t2 = input()\n",
    "    delta = time_delta(t1, t2)"
   ]
  },
  {
   "cell_type": "markdown",
   "id": "c7d967ca",
   "metadata": {},
   "source": [
    "## Errors and Exceptions "
   ]
  },
  {
   "cell_type": "markdown",
   "id": "0bf2734f",
   "metadata": {},
   "source": [
    "### Exceptions "
   ]
  },
  {
   "cell_type": "code",
   "execution_count": 68,
   "id": "b0daf69e",
   "metadata": {},
   "outputs": [
    {
     "name": "stdout",
     "output_type": "stream",
     "text": [
      "3\n",
      "1 0\n",
      "Error Code: integer division or modulo by zero\n",
      "2 $\n",
      "Error Code: invalid literal for int() with base 10: '$'\n",
      "3 1\n",
      "3\n"
     ]
    }
   ],
   "source": [
    "T=int(input())\n",
    "for i in range(T):\n",
    "    try:\n",
    "        a,b=map(int,input().split())\n",
    "        print(a//b)\n",
    "    except Exception as e:\n",
    "        print(\"Error Code:\",e)"
   ]
  },
  {
   "cell_type": "markdown",
   "id": "1171d9e9",
   "metadata": {},
   "source": [
    "### Built-Ins"
   ]
  },
  {
   "cell_type": "markdown",
   "id": "4f9d9508",
   "metadata": {},
   "source": [
    "### Zipped!"
   ]
  },
  {
   "cell_type": "code",
   "execution_count": 69,
   "id": "f428db54",
   "metadata": {},
   "outputs": [
    {
     "name": "stdout",
     "output_type": "stream",
     "text": [
      "5 3\n",
      "89 90 78 93 80\n",
      "90 91 85 88 86  \n",
      "91 92 83 89 90.5\n",
      "90.0\n",
      "91.0\n",
      "82.0\n",
      "90.0\n",
      "85.5\n"
     ]
    }
   ],
   "source": [
    "N,X = map(int, input().split()) \n",
    "d=[map(float, input().split()) for _ in range(X)] \n",
    "for i in zip(*d): \n",
    "    print( sum(i)/len(i) )\n"
   ]
  },
  {
   "cell_type": "markdown",
   "id": "58473431",
   "metadata": {},
   "source": [
    "### Input()"
   ]
  },
  {
   "cell_type": "code",
   "execution_count": 70,
   "id": "5d2f1e8b",
   "metadata": {},
   "outputs": [
    {
     "name": "stdout",
     "output_type": "stream",
     "text": [
      "1 4\n",
      "x**3 + x**2 + x + 1\n",
      "True\n"
     ]
    }
   ],
   "source": [
    "x,k=map(int, input().split())\n",
    "print (k==eval(input()))"
   ]
  },
  {
   "cell_type": "markdown",
   "id": "d0fd055d",
   "metadata": {},
   "source": [
    "### Python Evaluation"
   ]
  },
  {
   "cell_type": "code",
   "execution_count": 71,
   "id": "b81fde31",
   "metadata": {},
   "outputs": [
    {
     "name": "stdout",
     "output_type": "stream",
     "text": [
      "print(2 + 3)\n",
      "5\n"
     ]
    }
   ],
   "source": [
    "eval(input())"
   ]
  },
  {
   "cell_type": "markdown",
   "id": "40005485",
   "metadata": {},
   "source": [
    "### Athlete Sort"
   ]
  },
  {
   "cell_type": "code",
   "execution_count": 72,
   "id": "3b6d157a",
   "metadata": {},
   "outputs": [
    {
     "name": "stdout",
     "output_type": "stream",
     "text": [
      "5 3\n",
      "10 2 5\n",
      "7 1 0\n",
      "9 9 9\n",
      "1 23 12\n",
      "6 5 9\n",
      "1\n",
      "7 1 0\n",
      "10 2 5\n",
      "6 5 9\n",
      "9 9 9\n",
      "1 23 12\n"
     ]
    }
   ],
   "source": [
    "#!/bin/python3\n",
    "\n",
    "import math\n",
    "import os\n",
    "import random\n",
    "import re\n",
    "import sys\n",
    "\n",
    "\n",
    "\n",
    "if __name__ == '__main__':\n",
    "    nm = input().split()\n",
    "    n = int(nm[0])\n",
    "    m = int(nm[1])\n",
    "    arr = []\n",
    "    for _ in range(n):\n",
    "        arr.append(list(map(int, input().rstrip().split())))\n",
    "    k = int(input())\n",
    "    arr.sort(key=lambda i: i[k])\n",
    "    for i in range(n):\n",
    "        print(*arr[i])\n",
    "        \n"
   ]
  },
  {
   "cell_type": "markdown",
   "id": "4b3bd3c0",
   "metadata": {},
   "source": [
    "###  Any or All\n"
   ]
  },
  {
   "cell_type": "code",
   "execution_count": 73,
   "id": "406d2a2c",
   "metadata": {},
   "outputs": [
    {
     "name": "stdout",
     "output_type": "stream",
     "text": [
      "5\n",
      "12 9 61 5 14\n",
      "True\n"
     ]
    }
   ],
   "source": [
    "N=int(input()) \n",
    "a=input().split(' ') \n",
    "print(all(int(i)>=0 for i in a) and any(i == i[::-1]for i in a))\n"
   ]
  },
  {
   "cell_type": "markdown",
   "id": "11f51cf3",
   "metadata": {},
   "source": [
    "### ginortS"
   ]
  },
  {
   "cell_type": "code",
   "execution_count": 74,
   "id": "ebad58a0",
   "metadata": {},
   "outputs": [
    {
     "name": "stdout",
     "output_type": "stream",
     "text": [
      "Sorting1234\n",
      "ginortS1324"
     ]
    }
   ],
   "source": [
    "s = input()\n",
    "low=[]\n",
    "up=[]\n",
    "num=[]\n",
    "odd=[]\n",
    "ev=[]\n",
    "ss=''\n",
    "for i in range(len(s)):\n",
    "    if(s[i].isdigit()):\n",
    "        num.append(s[i])\n",
    "    elif(s[i].isupper()):\n",
    "        up.append(s[i])\n",
    "    elif(s[i].islower()):\n",
    "        low.append(s[i])\n",
    "low=sorted(low)\n",
    "up=sorted(up)\n",
    "#print(num)\n",
    "for i in range(len(num)):\n",
    "    if(int(num[i])%2!=0):\n",
    "        odd.append(num[i])\n",
    "    else:\n",
    "        ev.append(num[i])\n",
    "odd=sorted(odd)\n",
    "ev=sorted(ev)\n",
    "num=odd+ev\n",
    "#print(num)\n",
    "ss=low+up+num\n",
    "for i in ss:\n",
    "    print(i, end=\"\")\n"
   ]
  },
  {
   "cell_type": "markdown",
   "id": "09cbac58",
   "metadata": {},
   "source": [
    "## Python Functionals "
   ]
  },
  {
   "cell_type": "markdown",
   "id": "41715e89",
   "metadata": {},
   "source": [
    "### Map and Lambda Function "
   ]
  },
  {
   "cell_type": "code",
   "execution_count": 75,
   "id": "f5be7f4b",
   "metadata": {},
   "outputs": [
    {
     "name": "stdout",
     "output_type": "stream",
     "text": [
      "5\n",
      "[0, 1, 1, 8, 27]\n"
     ]
    }
   ],
   "source": [
    "cube = lambda x: x*x*x \n",
    "\n",
    "def fibonacci(n):\n",
    "    l = [0,1]\n",
    "    for i in range(2,n):\n",
    "        l.append(l[i-2] + l[i-1])\n",
    "    return(l[0:n])\n",
    "        \n",
    "\n",
    "if __name__ == '__main__':\n",
    "    n = int(input())\n",
    "    print(list(map(cube, fibonacci(n))))"
   ]
  },
  {
   "cell_type": "markdown",
   "id": "b27774ec",
   "metadata": {},
   "source": [
    "## Regex and Parsing"
   ]
  },
  {
   "cell_type": "markdown",
   "id": "a486c438",
   "metadata": {},
   "source": [
    "### Detect Floating Point Number "
   ]
  },
  {
   "cell_type": "code",
   "execution_count": 76,
   "id": "3154391d",
   "metadata": {},
   "outputs": [
    {
     "name": "stdout",
     "output_type": "stream",
     "text": [
      "3\n",
      "+4.54\n",
      "True\n",
      "4\n",
      "True\n",
      "SomeRandomStuff\n",
      "False\n"
     ]
    }
   ],
   "source": [
    "for _ in range(int(input())):\n",
    "    try:\n",
    "        print(bool(float(input())))\n",
    "    except:\n",
    "        print('False')\n"
   ]
  },
  {
   "cell_type": "markdown",
   "id": "8395190c",
   "metadata": {},
   "source": [
    "### Re.split() "
   ]
  },
  {
   "cell_type": "code",
   "execution_count": 77,
   "id": "af725a37",
   "metadata": {},
   "outputs": [
    {
     "name": "stdout",
     "output_type": "stream",
     "text": [
      "100,000,000.000\n",
      "100\n",
      "000\n",
      "000\n",
      "000\n"
     ]
    }
   ],
   "source": [
    "regex_pattern = r\"[,.]\"\t# Do not delete 'r'.\n",
    "\n",
    "import re\n",
    "print(\"\\n\".join(re.split(regex_pattern, input())))"
   ]
  },
  {
   "cell_type": "markdown",
   "id": "75240b85",
   "metadata": {},
   "source": [
    "### Group(), Groups() & Groupdict() "
   ]
  },
  {
   "cell_type": "code",
   "execution_count": 78,
   "id": "eecdc72f",
   "metadata": {},
   "outputs": [
    {
     "name": "stdout",
     "output_type": "stream",
     "text": [
      "12345678910111213141516171820212223\n",
      "1\n"
     ]
    }
   ],
   "source": [
    "import re\n",
    "text=input()\n",
    "x = re.search(r\"([a-zA-Z0-9])\\1\",text )\n",
    "print(x.group(1) if x else -1)\n"
   ]
  },
  {
   "cell_type": "markdown",
   "id": "d9ac004b",
   "metadata": {},
   "source": [
    "### Validating Roman Numerals "
   ]
  },
  {
   "cell_type": "code",
   "execution_count": 79,
   "id": "bc93c680",
   "metadata": {},
   "outputs": [
    {
     "name": "stdout",
     "output_type": "stream",
     "text": [
      "CDXXI\n",
      "True\n"
     ]
    }
   ],
   "source": [
    "regex_pattern = r\"(?<=^)M{0,4}(CM|CD|D?C{0,3})(XC|XL|L?X{0,3})(IX|IV|V?I{0,3})(?=$)\"\t# Do not delete 'r'.\n",
    "\n",
    "import re\n",
    "print(str(bool(re.match(regex_pattern, input()))))"
   ]
  },
  {
   "cell_type": "markdown",
   "id": "3db01cf5",
   "metadata": {},
   "source": [
    "### Validating phone numbers "
   ]
  },
  {
   "cell_type": "code",
   "execution_count": 80,
   "id": "acac5e2c",
   "metadata": {},
   "outputs": [
    {
     "name": "stdout",
     "output_type": "stream",
     "text": [
      "2\n",
      "9587456281\n",
      "YES\n",
      "1252478965\n",
      "NO\n"
     ]
    }
   ],
   "source": [
    "import re\n",
    "N=int(input())\n",
    "for i in range(N):\n",
    "    s=input()\n",
    "    if re.match(\"^[789][0-9]{9}$\",s):\n",
    "        print(\"YES\")\n",
    "    else:\n",
    "        print(\"NO\")\n"
   ]
  },
  {
   "cell_type": "markdown",
   "id": "8c1bd672",
   "metadata": {},
   "source": [
    "## XML"
   ]
  },
  {
   "cell_type": "markdown",
   "id": "ee6a905f",
   "metadata": {},
   "source": [
    "### XML 1 - Find the Score"
   ]
  },
  {
   "cell_type": "code",
   "execution_count": null,
   "id": "ce48926c",
   "metadata": {},
   "outputs": [],
   "source": [
    "import sys\n",
    "import xml.etree.ElementTree as etree\n",
    "\n",
    "def get_attr_number(node):\n",
    "    s=0\n",
    "    for i in node.iter():\n",
    "        s=s+len(i.items())\n",
    "    return s\n",
    "\n",
    "if __name__ == '__main__':\n",
    "    sys.stdin.readline()\n",
    "    xml = sys.stdin.read()\n",
    "    tree = etree.ElementTree(etree.fromstring(xml))\n",
    "    root = tree.getroot()\n",
    "    print(get_attr_number(root))\n",
    "##Compilation success in hackerrank"
   ]
  },
  {
   "cell_type": "markdown",
   "id": "a46c4605",
   "metadata": {},
   "source": [
    "### XML2 - Find the Maximum Depth"
   ]
  },
  {
   "cell_type": "code",
   "execution_count": 84,
   "id": "ffd5cc63",
   "metadata": {},
   "outputs": [
    {
     "name": "stdout",
     "output_type": "stream",
     "text": [
      "6\n",
      "<feed xml:lang='en'>\n",
      "  <title>HackerRank</title>\n",
      "  <subtitle lang='en'>Programming challenges</subtitle>\n",
      "  <link rel='alternate' type='text/html' href='http://hackerrank.com/'/>\n",
      "  <updated>2013-12-25T12:00:00</updated>\n",
      "</feed>\n",
      "1\n"
     ]
    }
   ],
   "source": [
    "import xml.etree.ElementTree as etree\n",
    "\n",
    "maxdepth = 0\n",
    "def depth(elem, level):\n",
    "    global maxdepth\n",
    "    for i in elem:\n",
    "        depth(i, level+1)\n",
    "    maxdepth = max(level+1, maxdepth)\n",
    "\n",
    "if __name__ == '__main__':\n",
    "    n = int(input())\n",
    "    xml = \"\"\n",
    "    for i in range(n):\n",
    "        xml =  xml + input() + \"\\n\"\n",
    "    tree = etree.ElementTree(etree.fromstring(xml))\n",
    "    depth(tree.getroot(), -1)\n",
    "    print(maxdepth)"
   ]
  },
  {
   "cell_type": "markdown",
   "id": "c3da31b3",
   "metadata": {},
   "source": [
    "## Numpy "
   ]
  },
  {
   "cell_type": "markdown",
   "id": "99f37f16",
   "metadata": {},
   "source": [
    "### Arrays"
   ]
  },
  {
   "cell_type": "code",
   "execution_count": 27,
   "id": "8201cd30",
   "metadata": {},
   "outputs": [
    {
     "name": "stdout",
     "output_type": "stream",
     "text": [
      "1 2 3 4 -8 -10\n",
      "[-10.  -8.   4.   3.   2.   1.]\n"
     ]
    }
   ],
   "source": [
    "import numpy as np\n",
    "def arrays(arr):\n",
    "    b = np.array(arr,float)\n",
    "    return b[::-1]\n",
    "\n",
    "arr = input().strip().split(' ')\n",
    "result = arrays(arr)\n",
    "print(result)"
   ]
  },
  {
   "cell_type": "markdown",
   "id": "0ea9d5e4",
   "metadata": {},
   "source": [
    "### Shape and Reshape"
   ]
  },
  {
   "cell_type": "code",
   "execution_count": 85,
   "id": "de458764",
   "metadata": {},
   "outputs": [
    {
     "name": "stdout",
     "output_type": "stream",
     "text": [
      "1 2 3 4 5 6 7 8 9\n",
      "[[1 2 3]\n",
      " [4 5 6]\n",
      " [7 8 9]]\n"
     ]
    }
   ],
   "source": [
    "import numpy as np\n",
    "print(np.array(input().split(),int).reshape(3,3))"
   ]
  },
  {
   "cell_type": "markdown",
   "id": "29128a40",
   "metadata": {},
   "source": [
    "### Transpose and Flatten"
   ]
  },
  {
   "cell_type": "code",
   "execution_count": 86,
   "id": "a3c83d0a",
   "metadata": {},
   "outputs": [
    {
     "name": "stdout",
     "output_type": "stream",
     "text": [
      "2 2\n",
      "1 2\n",
      "3 4\n",
      "[[1 3]\n",
      " [2 4]]\n",
      "[1 2 3 4]\n"
     ]
    }
   ],
   "source": [
    "import numpy as np\n",
    "N,M = map(int,(input().split()))\n",
    "a = np.array([input().split() for i in range(N)],int)\n",
    "print(a.transpose())\n",
    "print(a.flatten())"
   ]
  },
  {
   "cell_type": "markdown",
   "id": "1fe65332",
   "metadata": {},
   "source": [
    "### Concatenate"
   ]
  },
  {
   "cell_type": "code",
   "execution_count": 87,
   "id": "93caccea",
   "metadata": {},
   "outputs": [
    {
     "name": "stdout",
     "output_type": "stream",
     "text": [
      "4 3 2\n",
      "1 2\n",
      "1 2\n",
      "1 2\n",
      "1 2\n",
      "3 4\n",
      "3 4\n",
      "3 4\n",
      "[[1 2]\n",
      " [1 2]\n",
      " [1 2]\n",
      " [1 2]\n",
      " [3 4]\n",
      " [3 4]\n",
      " [3 4]]\n"
     ]
    }
   ],
   "source": [
    "import numpy as np\n",
    "N,M,P = map(int,(input().split()))\n",
    "a = np.array([input().split() for i in range(N)],int)\n",
    "b = np.array([input().split() for i in range(M)],int)\n",
    "print(np.concatenate((a, b)))"
   ]
  },
  {
   "cell_type": "markdown",
   "id": "320e0da0",
   "metadata": {},
   "source": [
    "### Zeros and Ones"
   ]
  },
  {
   "cell_type": "code",
   "execution_count": 88,
   "id": "f34e5fc6",
   "metadata": {},
   "outputs": [
    {
     "name": "stdout",
     "output_type": "stream",
     "text": [
      "3 3 3\n",
      "[[[0 0 0]\n",
      "  [0 0 0]\n",
      "  [0 0 0]]\n",
      "\n",
      " [[0 0 0]\n",
      "  [0 0 0]\n",
      "  [0 0 0]]\n",
      "\n",
      " [[0 0 0]\n",
      "  [0 0 0]\n",
      "  [0 0 0]]]\n",
      "[[[1 1 1]\n",
      "  [1 1 1]\n",
      "  [1 1 1]]\n",
      "\n",
      " [[1 1 1]\n",
      "  [1 1 1]\n",
      "  [1 1 1]]\n",
      "\n",
      " [[1 1 1]\n",
      "  [1 1 1]\n",
      "  [1 1 1]]]\n"
     ]
    }
   ],
   "source": [
    "import numpy as np\n",
    "n = list(map(int,(input().split())))\n",
    "print(np.zeros((n),int)) \n",
    "print(np.ones((n),int))\n"
   ]
  },
  {
   "cell_type": "markdown",
   "id": "7f1577df",
   "metadata": {},
   "source": [
    "### Eye and Identity"
   ]
  },
  {
   "cell_type": "code",
   "execution_count": 89,
   "id": "6194959f",
   "metadata": {},
   "outputs": [
    {
     "name": "stdout",
     "output_type": "stream",
     "text": [
      "3 3\n",
      "[[ 1.  0.  0.]\n",
      " [ 0.  1.  0.]\n",
      " [ 0.  0.  1.]]\n"
     ]
    }
   ],
   "source": [
    "import numpy as np\n",
    "N,M = map(int,(input().split()))\n",
    "np.set_printoptions(legacy='1.13')\n",
    "print(np.eye(N,M))\n"
   ]
  },
  {
   "cell_type": "markdown",
   "id": "dae3c6ce",
   "metadata": {},
   "source": [
    "### Array Mathematics"
   ]
  },
  {
   "cell_type": "code",
   "execution_count": 90,
   "id": "954faf01",
   "metadata": {},
   "outputs": [
    {
     "name": "stdout",
     "output_type": "stream",
     "text": [
      "1 4\n",
      "1 2 3 4\n",
      "5 6 7 8\n",
      "[[ 6  8 10 12]]\n",
      "[[-4 -4 -4 -4]]\n",
      "[[ 5 12 21 32]]\n",
      "[[0 0 0 0]]\n",
      "[[1 2 3 4]]\n",
      "[[    1    64  2187 65536]]\n"
     ]
    }
   ],
   "source": [
    "import numpy as np\n",
    "N,M = map(int,(input().split()))\n",
    "\n",
    "\n",
    "a = np.array([(list(map(int, input().split()))) for i in range(N)],int)\n",
    "b = np.array([(list(map(int, input().split()))) for i in range(N)],int)\n",
    "print(np.add(a, b))\n",
    "print(np.subtract(a, b))\n",
    "print(np.multiply(a, b))\n",
    "print(np.floor_divide(a, b))\n",
    "print(np.mod(a, b))\n",
    "print(np.power(a, b))\n",
    "  "
   ]
  },
  {
   "cell_type": "markdown",
   "id": "a3c772fc",
   "metadata": {},
   "source": [
    "### Floor, Ceil and Rint"
   ]
  },
  {
   "cell_type": "code",
   "execution_count": 91,
   "id": "7df84970",
   "metadata": {},
   "outputs": [
    {
     "name": "stdout",
     "output_type": "stream",
     "text": [
      "1.1 2.2 3.3 4.4 5.5 6.6 7.7 8.8 9.9\n",
      "[ 1.  2.  3.  4.  5.  6.  7.  8.  9.]\n",
      "[  2.   3.   4.   5.   6.   7.   8.   9.  10.]\n",
      "[  1.   2.   3.   4.   6.   7.   8.   9.  10.]\n"
     ]
    }
   ],
   "source": [
    "import numpy as np\n",
    "a=(np.array(input().split(),float))\n",
    "np.set_printoptions(legacy='1.13')\n",
    "print(np.floor(a))\n",
    "print(np.ceil(a))\n",
    "print(np.rint(a))"
   ]
  },
  {
   "cell_type": "markdown",
   "id": "6d4ba69e",
   "metadata": {},
   "source": [
    "### Sum and Prod"
   ]
  },
  {
   "cell_type": "code",
   "execution_count": 92,
   "id": "b76625aa",
   "metadata": {},
   "outputs": [
    {
     "name": "stdout",
     "output_type": "stream",
     "text": [
      "2 2\n",
      "1 2\n",
      "3 4\n",
      "24\n"
     ]
    }
   ],
   "source": [
    "import numpy as np\n",
    "N,M = map(int,(input().split()))\n",
    "a = np.array([(list(map(int, input().split()))) for i in range(N)],int)\n",
    "print(np.prod(np.sum(a,axis=0),axis=0))"
   ]
  },
  {
   "cell_type": "markdown",
   "id": "0a018911",
   "metadata": {},
   "source": [
    "### Min and Max"
   ]
  },
  {
   "cell_type": "code",
   "execution_count": 93,
   "id": "3209c4f8",
   "metadata": {},
   "outputs": [
    {
     "name": "stdout",
     "output_type": "stream",
     "text": [
      "4 2\n",
      "2 5\n",
      "3 7\n",
      "1 3\n",
      "4 0\n",
      "3\n"
     ]
    }
   ],
   "source": [
    "import numpy as np\n",
    "N,M = map(int,(input().split()))\n",
    "a = np.array([(list(map(int, input().split()))) for i in range(N)],int)\n",
    "print(max(np.min(a,axis=1)))"
   ]
  },
  {
   "cell_type": "markdown",
   "id": "022b2ae7",
   "metadata": {},
   "source": [
    "### Mean, Var, and Std"
   ]
  },
  {
   "cell_type": "code",
   "execution_count": 94,
   "id": "4f12797f",
   "metadata": {},
   "outputs": [
    {
     "name": "stdout",
     "output_type": "stream",
     "text": [
      "2 2\n",
      "1 2 \n",
      "3 4\n",
      "[ 1.5  3.5]\n",
      "[ 1.  1.]\n",
      "1.11803398875\n"
     ]
    }
   ],
   "source": [
    "import numpy as np\n",
    "N,M = map(int,(input().split()))\n",
    "a = np.array([(list(map(int, input().split()))) for i in range(N)],int)\n",
    "print(np.mean(a,axis=1))\n",
    "print(np.var(a,axis=0))\n",
    "print(round(np.std(a),11))"
   ]
  },
  {
   "cell_type": "markdown",
   "id": "bc7c4ea2",
   "metadata": {},
   "source": [
    "### Dot and Cross"
   ]
  },
  {
   "cell_type": "code",
   "execution_count": 95,
   "id": "50835f01",
   "metadata": {},
   "outputs": [
    {
     "name": "stdout",
     "output_type": "stream",
     "text": [
      "2\n",
      "1 2\n",
      "3 4\n",
      "1 2\n",
      "3 4\n",
      "[[ 7 10]\n",
      " [15 22]]\n"
     ]
    }
   ],
   "source": [
    "import numpy as np\n",
    "N = int(input())\n",
    "a = np.array([(list(map(int, input().split()))) for i in range(N)],int)\n",
    "b = np.array([(list(map(int, input().split()))) for i in range(N)],int)\n",
    "print(np.dot(a,b))"
   ]
  },
  {
   "cell_type": "markdown",
   "id": "641b3e7a",
   "metadata": {},
   "source": [
    "### Inner and Outer"
   ]
  },
  {
   "cell_type": "code",
   "execution_count": 96,
   "id": "8a897428",
   "metadata": {},
   "outputs": [
    {
     "name": "stdout",
     "output_type": "stream",
     "text": [
      "0 1\n",
      "2 3\n",
      "3\n",
      "[[0 0]\n",
      " [2 3]]\n"
     ]
    }
   ],
   "source": [
    "import numpy as np\n",
    "a = np.array(input().split(),int)\n",
    "b = np.array(input().split(),int)\n",
    "print(np.inner(a,b))\n",
    "print(np.outer(a,b))"
   ]
  },
  {
   "cell_type": "markdown",
   "id": "c272124a",
   "metadata": {},
   "source": [
    "### Polynomials"
   ]
  },
  {
   "cell_type": "code",
   "execution_count": 97,
   "id": "3c34da9c",
   "metadata": {},
   "outputs": [
    {
     "name": "stdout",
     "output_type": "stream",
     "text": [
      "1.1 2 3\n",
      "0\n",
      "3.0\n"
     ]
    }
   ],
   "source": [
    "import numpy as np\n",
    "P = np.array(input().split(),float)\n",
    "x = int(input())\n",
    "print(np.polyval(P,x))"
   ]
  },
  {
   "cell_type": "markdown",
   "id": "c3add354",
   "metadata": {},
   "source": [
    "### Linear Algebra"
   ]
  },
  {
   "cell_type": "code",
   "execution_count": 98,
   "id": "94d38ec0",
   "metadata": {
    "scrolled": true
   },
   "outputs": [
    {
     "name": "stdout",
     "output_type": "stream",
     "text": [
      "2\n",
      "1.1 1.1\n",
      "1.1 1.1\n",
      "0.0\n"
     ]
    }
   ],
   "source": [
    "import numpy as np\n",
    "N = int(input())\n",
    "a = np.array([(list(map(float, input().split()))) for i in range(N)],float)\n",
    "print(round(np.linalg.det(a),2))"
   ]
  },
  {
   "cell_type": "markdown",
   "id": "6ff2b8e3",
   "metadata": {},
   "source": [
    "# Problem2"
   ]
  },
  {
   "cell_type": "markdown",
   "id": "acb1810a",
   "metadata": {},
   "source": [
    "## Birthday Cake Candles"
   ]
  },
  {
   "cell_type": "code",
   "execution_count": 103,
   "id": "f188b04a",
   "metadata": {},
   "outputs": [
    {
     "name": "stdout",
     "output_type": "stream",
     "text": [
      "4\n",
      "3 2 1 3\n",
      "2\n"
     ]
    }
   ],
   "source": [
    "#!/bin/python3\n",
    "\n",
    "import math\n",
    "import os\n",
    "import random\n",
    "import re\n",
    "import sys\n",
    "\n",
    "#\n",
    "# Complete the 'birthdayCakeCandles' function below.\n",
    "#\n",
    "# The function is expected to return an INTEGER.\n",
    "# The function accepts INTEGER_ARRAY candles as parameter.\n",
    "#\n",
    "\n",
    "def birthdayCakeCandles(candles):\n",
    "    max_c=-1000\n",
    "    s=0\n",
    "    for i in range(len(candles)):\n",
    "        if(candles[i]>max_c):\n",
    "            max_c=candles[i]\n",
    "    for i in range(len(candles)):\n",
    "        if(candles[i]==max_c):\n",
    "            s+=1\n",
    "    print(s)\n",
    "\n",
    "\n",
    "candles_count = int(input().strip())\n",
    "candles = list(map(int, input().rstrip().split()))\n",
    "result = birthdayCakeCandles(candles)\n"
   ]
  },
  {
   "cell_type": "markdown",
   "id": "6d7fea39",
   "metadata": {},
   "source": [
    "## Number Line Jumps"
   ]
  },
  {
   "cell_type": "code",
   "execution_count": 104,
   "id": "561a9d88",
   "metadata": {},
   "outputs": [
    {
     "name": "stdout",
     "output_type": "stream",
     "text": [
      "0 3 4 2\n",
      "YES\n",
      "NO\n"
     ]
    }
   ],
   "source": [
    "#!/bin/python3\n",
    "\n",
    "import math\n",
    "import os\n",
    "import random\n",
    "import re\n",
    "import sys\n",
    "\n",
    "#\n",
    "# Complete the 'kangaroo' function below.\n",
    "#\n",
    "# The function is expected to return a STRING.\n",
    "# The function accepts following parameters:\n",
    "#  1. INTEGER x1\n",
    "#  2. INTEGER v1\n",
    "#  3. INTEGER x2\n",
    "#  4. INTEGER v2\n",
    "#\n",
    "\n",
    "def kangaroo(x1, v1, x2, v2):\n",
    "    s1=x1\n",
    "    s2=x2\n",
    "    for i in range(10001):\n",
    "        s1=s1+v1\n",
    "        s2=s2+v2\n",
    "        if(s1==s2):\n",
    "            print('YES')\n",
    "    else:\n",
    "        print('NO')\n",
    "\n",
    "\n",
    "first_multiple_input = input().rstrip().split()\n",
    "x1 = int(first_multiple_input[0])\n",
    "v1 = int(first_multiple_input[1])\n",
    "x2 = int(first_multiple_input[2])\n",
    "v2 = int(first_multiple_input[3])\n",
    "result = kangaroo(x1, v1, x2, v2)"
   ]
  },
  {
   "cell_type": "markdown",
   "id": "7b3f4615",
   "metadata": {},
   "source": [
    "## Viral Advertising"
   ]
  },
  {
   "cell_type": "code",
   "execution_count": 106,
   "id": "8335f478",
   "metadata": {},
   "outputs": [
    {
     "name": "stdout",
     "output_type": "stream",
     "text": [
      "3\n",
      "9\n"
     ]
    }
   ],
   "source": [
    "#!/bin/python3\n",
    "import math\n",
    "import os\n",
    "import random\n",
    "import re\n",
    "import sys\n",
    "#\n",
    "# Complete the 'viralAdvertising' function below.\n",
    "#\n",
    "# The function is expected to return an INTEGER.\n",
    "# The function accepts INTEGER n as parameter.\n",
    "#\n",
    "\n",
    "def viralAdvertising(n):\n",
    "    shared=5\n",
    "    liked=math.floor(shared/2)\n",
    "    c=liked\n",
    "    for i in range (1,n):\n",
    "        shared=liked*3\n",
    "        liked=math.floor(shared/2)\n",
    "        c=c+liked\n",
    "    return(c)\n",
    "\n",
    "\n",
    "n = int(input().strip())\n",
    "result = viralAdvertising(n)\n",
    "print(result)"
   ]
  },
  {
   "cell_type": "markdown",
   "id": "4386b50c",
   "metadata": {},
   "source": [
    "## Recursive Digit Sum"
   ]
  },
  {
   "cell_type": "code",
   "execution_count": 107,
   "id": "530d6ad4",
   "metadata": {},
   "outputs": [
    {
     "name": "stdout",
     "output_type": "stream",
     "text": [
      "148 3\n",
      "3\n"
     ]
    }
   ],
   "source": [
    "#!/bin/python3\n",
    "\n",
    "import math\n",
    "import os\n",
    "import random\n",
    "import re\n",
    "import sys\n",
    "\n",
    "#\n",
    "# Complete the 'superDigit' function below.\n",
    "#\n",
    "# The function is expected to return an INTEGER.\n",
    "# The function accepts following parameters:\n",
    "#  1. STRING n\n",
    "#  2. INTEGER k\n",
    "#\n",
    "\n",
    "def superDigit(n,k):\n",
    "    if (int(n)<10): \n",
    "        return int(n)\n",
    "    l = list(map(int, str(n)))\n",
    "    return superDigit(str(sum(l)*k),1)  \n",
    "\n",
    "first_multiple_input = input().rstrip().split()\n",
    "n = first_multiple_input[0]\n",
    "k = int(first_multiple_input[1])\n",
    "result = superDigit(n, k)\n",
    "print(result)\n"
   ]
  },
  {
   "cell_type": "markdown",
   "id": "cc28d7b5",
   "metadata": {},
   "source": [
    "## Insertion Sort - Part 1"
   ]
  },
  {
   "cell_type": "code",
   "execution_count": 108,
   "id": "54f63feb",
   "metadata": {},
   "outputs": [
    {
     "name": "stdout",
     "output_type": "stream",
     "text": [
      "5\n",
      "2 4 6 8 3\n",
      "2 4 6 8 8\n",
      "2 4 6 6 8\n",
      "2 4 4 6 8\n",
      "2 3 4 6 8\n"
     ]
    }
   ],
   "source": [
    "#!/bin/python3\n",
    "##Use pseudocode from wikipedia\n",
    "import math\n",
    "import os\n",
    "import random\n",
    "import re\n",
    "import sys\n",
    "\n",
    "#\n",
    "# Complete the 'insertionSort1' function below.\n",
    "#\n",
    "# The function accepts following parameters:\n",
    "#  1. INTEGER n\n",
    "#  2. INTEGER_ARRAY arr\n",
    "#\n",
    "\n",
    "def insertionSort1(n, arr):\n",
    "    i=1\n",
    "    while(i < len(arr)):\n",
    "        key = arr[i]\n",
    "        j = i-1\n",
    "        while(j >= 0 and key < arr[j]):\n",
    "            arr[j + 1] = arr[j]\n",
    "            j =j - 1\n",
    "            print(*arr)\n",
    "        arr[j + 1] = key\n",
    "        i=i+1\n",
    "    print(*arr)\n",
    "\n",
    "n = int(input().strip())\n",
    "arr = list(map(int, input().rstrip().split()))\n",
    "insertionSort1(n, arr)\n"
   ]
  },
  {
   "cell_type": "markdown",
   "id": "3d4ec20b",
   "metadata": {},
   "source": [
    "## Insertion Sort - Part 2"
   ]
  },
  {
   "cell_type": "code",
   "execution_count": 109,
   "id": "c4279640",
   "metadata": {},
   "outputs": [
    {
     "name": "stdout",
     "output_type": "stream",
     "text": [
      "6\n",
      "1 4 3 5 6 2\n",
      "1 4 3 5 6 2\n",
      "1 3 4 5 6 2\n",
      "1 3 4 5 6 2\n",
      "1 3 4 5 6 2\n",
      "1 2 3 4 5 6\n"
     ]
    }
   ],
   "source": [
    "#!/bin/python3\n",
    "## Just delete print from insertion_sort1\n",
    "import math\n",
    "import os\n",
    "import random\n",
    "import re\n",
    "import sys\n",
    "\n",
    "#\n",
    "# Complete the 'insertionSort2' function below.\n",
    "#\n",
    "# The function accepts following parameters:\n",
    "#  1. INTEGER n\n",
    "#  2. INTEGER_ARRAY arr\n",
    "#\n",
    "\n",
    "def insertionSort2(n, arr):\n",
    "    i=1\n",
    "    while(i < len(arr)):\n",
    "        key = arr[i]\n",
    "        j = i-1\n",
    "        while(j >= 0 and key < arr[j]):\n",
    "            arr[j + 1] = arr[j]\n",
    "            j =j - 1\n",
    "        arr[j + 1] = key\n",
    "        i=i+1\n",
    "        print(*arr)\n",
    "\n",
    "if __name__ == '__main__':\n",
    "    n = int(input().strip())\n",
    "\n",
    "    arr = list(map(int, input().rstrip().split()))\n",
    "\n",
    "    insertionSort2(n, arr)\n"
   ]
  }
 ],
 "metadata": {
  "kernelspec": {
   "display_name": "Python 3",
   "language": "python",
   "name": "python3"
  },
  "language_info": {
   "codemirror_mode": {
    "name": "ipython",
    "version": 3
   },
   "file_extension": ".py",
   "mimetype": "text/x-python",
   "name": "python",
   "nbconvert_exporter": "python",
   "pygments_lexer": "ipython3",
   "version": "3.8.8"
  }
 },
 "nbformat": 4,
 "nbformat_minor": 5
}
